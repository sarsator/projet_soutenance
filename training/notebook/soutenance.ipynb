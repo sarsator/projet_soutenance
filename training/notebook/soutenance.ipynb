{
 "cells": [
  {
   "cell_type": "markdown",
   "id": "a0a56db8",
   "metadata": {},
   "source": [
    "flowchart TD\n",
    "  A([📷 Image brute])\n",
    "  B([🔧 Pré-traitement image<br/>• Resize 512×512<br/>• Normalisation])\n",
    "  C([📊 CatBoost pré-filtre<br/>• Features tabulaires])\n",
    "  D([🚀 SSD MobileNet<br/>– Localisation + classification])\n",
    "  E([✔️ Pas de contamination détectée])\n",
    "  F([📈 Sortie : bbox + label + score])\n",
    "\n",
    "  A --> B\n",
    "  B --> C\n",
    "  C -- prob ≥ 12 % --> D\n",
    "  C -- prob < 12 % --> E\n",
    "  D --> F\n",
    "  E --> F\n",
    "\n",
    "  classDef step fill:#f3f3f3,stroke:#555,stroke-width:1px;\n",
    "  class A,B,C,D,E,F step;\n"
   ]
  }
 ],
 "metadata": {
  "kernelspec": {
   "display_name": ".venv",
   "language": "python",
   "name": "python3"
  },
  "language_info": {
   "name": "python",
   "version": "3.10.13"
  }
 },
 "nbformat": 4,
 "nbformat_minor": 5
}
